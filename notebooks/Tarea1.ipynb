{
 "cells": [
  {
   "cell_type": "markdown",
   "source": [
    "# Tarea 1\n",
    "La base de datos “ejercicios_Guatemala” adjunta contiene información socioeconómica para 1,086 hogares distribuidos en los 22 departamentos y 8 regiones administrativas de Guatemala. Estos hogares corresponden a una sub-muestra aleatoria equivalente al 10% de la muestra total de la ENCOVI 2014. Esta base está en formato Excel e incluye un listado con los nombres de las variables, su descripción general, códigos y etiquetas. Para las estimaciones que se piden más adelante pueden trabajar con la base desde Excel o importarse en Stata o R:\n"
   ],
   "metadata": {
    "collapsed": false,
    "pycharm": {
     "name": "#%% md\n"
    }
   }
  },
  {
   "cell_type": "code",
   "execution_count": 15,
   "outputs": [],
   "source": [
    "import matplotlib.pyplot as plt\n",
    "import pandas as pd\n",
    "import seaborn as sb\n",
    "import numpy as np\n",
    "import matplotlib.pyplot as pl"
   ],
   "metadata": {
    "collapsed": false,
    "pycharm": {
     "name": "#%%\n"
    }
   }
  },
  {
   "cell_type": "code",
   "execution_count": 4,
   "outputs": [
    {
     "name": "stderr",
     "output_type": "stream",
     "text": [
      "c:\\users\\hagarcia\\pycharmprojects\\microsimulaciones\\venv\\lib\\site-packages\\pandas\\io\\stata.py:1457: UnicodeWarning: \n",
      "One or more strings in the dta file could not be decoded using utf-8, and\n",
      "so the fallback encoding of latin-1 is being used.  This can happen when a file\n",
      "has been incorrectly encoded by Stata or some other software. You should verify\n",
      "the string values returned are correct.\n",
      "  warnings.warn(msg, UnicodeWarning)\n"
     ]
    },
    {
     "data": {
      "text/plain": "             REGION      DEPTO    AREA  THOGAR    P01A02           P01A03  \\\n0  I. METROPOLITANA  Guatemala  Urbana     4.0     Block  Lamina metalica   \n1  I. METROPOLITANA  Guatemala  Urbana     4.0     Block         Concreto   \n2  I. METROPOLITANA  Guatemala  Urbana     5.0  Ladrillo         Concreto   \n3  I. METROPOLITANA  Guatemala  Urbana     1.0     Block  Lamina metalica   \n4  I. METROPOLITANA  Guatemala  Urbana     2.0     Block         Concreto   \n\n                P01A04 P01A05A P01A05B P01A05C  ...  P01H02 P01H03 P01H04  \\\n0  Ladrillo de cemento      Si      Si      Si  ...      No     No     No   \n1     Torta de cemento      Si      Si      Si  ...      No     No     No   \n2    Ladrillo ceramico      Si      Si      Si  ...      No     No     No   \n3     Torta de cemento      Si      Si      Si  ...      No     No     No   \n4    Ladrillo ceramico      Si      Si      Si  ...      No     No     No   \n\n  P01H05 P01H06 P01H07        P06B25A P06B25B    GPOETNICO        INGTOT  \n0     No     No     No         Basico     2.0  No indigena  12499.166992  \n1     No     No     No       Primaria     6.0  No indigena   8328.000000  \n2     No     No     No       Primaria     3.0  No indigena   3200.000000  \n3     No     No     No       Primaria     6.0  No indigena   2430.666748  \n4     No     No     No  Diversificado     6.0  No indigena   9625.000000  \n\n[5 rows x 26 columns]",
      "text/html": "<div>\n<style scoped>\n    .dataframe tbody tr th:only-of-type {\n        vertical-align: middle;\n    }\n\n    .dataframe tbody tr th {\n        vertical-align: top;\n    }\n\n    .dataframe thead th {\n        text-align: right;\n    }\n</style>\n<table border=\"1\" class=\"dataframe\">\n  <thead>\n    <tr style=\"text-align: right;\">\n      <th></th>\n      <th>REGION</th>\n      <th>DEPTO</th>\n      <th>AREA</th>\n      <th>THOGAR</th>\n      <th>P01A02</th>\n      <th>P01A03</th>\n      <th>P01A04</th>\n      <th>P01A05A</th>\n      <th>P01A05B</th>\n      <th>P01A05C</th>\n      <th>...</th>\n      <th>P01H02</th>\n      <th>P01H03</th>\n      <th>P01H04</th>\n      <th>P01H05</th>\n      <th>P01H06</th>\n      <th>P01H07</th>\n      <th>P06B25A</th>\n      <th>P06B25B</th>\n      <th>GPOETNICO</th>\n      <th>INGTOT</th>\n    </tr>\n  </thead>\n  <tbody>\n    <tr>\n      <th>0</th>\n      <td>I. METROPOLITANA</td>\n      <td>Guatemala</td>\n      <td>Urbana</td>\n      <td>4.0</td>\n      <td>Block</td>\n      <td>Lamina metalica</td>\n      <td>Ladrillo de cemento</td>\n      <td>Si</td>\n      <td>Si</td>\n      <td>Si</td>\n      <td>...</td>\n      <td>No</td>\n      <td>No</td>\n      <td>No</td>\n      <td>No</td>\n      <td>No</td>\n      <td>No</td>\n      <td>Basico</td>\n      <td>2.0</td>\n      <td>No indigena</td>\n      <td>12499.166992</td>\n    </tr>\n    <tr>\n      <th>1</th>\n      <td>I. METROPOLITANA</td>\n      <td>Guatemala</td>\n      <td>Urbana</td>\n      <td>4.0</td>\n      <td>Block</td>\n      <td>Concreto</td>\n      <td>Torta de cemento</td>\n      <td>Si</td>\n      <td>Si</td>\n      <td>Si</td>\n      <td>...</td>\n      <td>No</td>\n      <td>No</td>\n      <td>No</td>\n      <td>No</td>\n      <td>No</td>\n      <td>No</td>\n      <td>Primaria</td>\n      <td>6.0</td>\n      <td>No indigena</td>\n      <td>8328.000000</td>\n    </tr>\n    <tr>\n      <th>2</th>\n      <td>I. METROPOLITANA</td>\n      <td>Guatemala</td>\n      <td>Urbana</td>\n      <td>5.0</td>\n      <td>Ladrillo</td>\n      <td>Concreto</td>\n      <td>Ladrillo ceramico</td>\n      <td>Si</td>\n      <td>Si</td>\n      <td>Si</td>\n      <td>...</td>\n      <td>No</td>\n      <td>No</td>\n      <td>No</td>\n      <td>No</td>\n      <td>No</td>\n      <td>No</td>\n      <td>Primaria</td>\n      <td>3.0</td>\n      <td>No indigena</td>\n      <td>3200.000000</td>\n    </tr>\n    <tr>\n      <th>3</th>\n      <td>I. METROPOLITANA</td>\n      <td>Guatemala</td>\n      <td>Urbana</td>\n      <td>1.0</td>\n      <td>Block</td>\n      <td>Lamina metalica</td>\n      <td>Torta de cemento</td>\n      <td>Si</td>\n      <td>Si</td>\n      <td>Si</td>\n      <td>...</td>\n      <td>No</td>\n      <td>No</td>\n      <td>No</td>\n      <td>No</td>\n      <td>No</td>\n      <td>No</td>\n      <td>Primaria</td>\n      <td>6.0</td>\n      <td>No indigena</td>\n      <td>2430.666748</td>\n    </tr>\n    <tr>\n      <th>4</th>\n      <td>I. METROPOLITANA</td>\n      <td>Guatemala</td>\n      <td>Urbana</td>\n      <td>2.0</td>\n      <td>Block</td>\n      <td>Concreto</td>\n      <td>Ladrillo ceramico</td>\n      <td>Si</td>\n      <td>Si</td>\n      <td>Si</td>\n      <td>...</td>\n      <td>No</td>\n      <td>No</td>\n      <td>No</td>\n      <td>No</td>\n      <td>No</td>\n      <td>No</td>\n      <td>Diversificado</td>\n      <td>6.0</td>\n      <td>No indigena</td>\n      <td>9625.000000</td>\n    </tr>\n  </tbody>\n</table>\n<p>5 rows × 26 columns</p>\n</div>"
     },
     "execution_count": 4,
     "metadata": {},
     "output_type": "execute_result"
    }
   ],
   "source": [
    "datos = pd.read_stata(\"../models/ejercicios_Guatemala.dta\")\n",
    "datos.head()"
   ],
   "metadata": {
    "collapsed": false,
    "pycharm": {
     "name": "#%%\n"
    }
   }
  },
  {
   "cell_type": "markdown",
   "metadata": {
    "collapsed": true,
    "pycharm": {
     "name": "#%% md\n"
    }
   },
   "source": [
    "## A. Medición de la pobreza\n",
    "1. Factores a considerar:\n",
    "     1. La unidad de análisis es el hogar (una observación por hogar, para un total de 1,086 hogares).\n",
    "     2. El principal atributo del bienestar en este ejercicio es el ingreso.\n",
    "     3. Para la etapa de identificación, los valores del ingreso están contenidos en la variable INGTOT correspondiente al ingreso total del hogar.\n",
    "     4. La línea de pobreza a utilizar está expresada en términos per cápita y toma el siguiente valor: Q850.\n",
    "     5. Para la etapa de agregación, utilice la familia de índices FGT con valores de 𝛼 de 0 (incidencia), 1 (intensidad) y 2 (severidad).\n",
    "2. Con estos factores y la información de la base de datos:\n",
    "    1. Exprese el ingreso total del hogar en términos per cápita\n",
    "    2. Compare el ingreso per cápita de cada hogar con la línea de pobreza y calcule la incidencia de pobreza para el total de 1,086 hogares (por practicidad y para fines ilustrativos nos referiremos a esta sub-muestra como “total del país”)\n",
    "    3. Calcule la incidencia de pobreza para cada región, departamento, y área, así como por etnicidad del jefe o jefa de hogar. Contraste estos resultados con la incidencia para el total del país (puede apoyarse en gráficos). ¿En qué regiones, departamentos, o áreas la incidencia de pobreza es más alta que el país? ¿En qué hogares la incidencia es mayor/menor?"
   ]
  },
  {
   "cell_type": "code",
   "execution_count": 16,
   "outputs": [
    {
     "name": "stdout",
     "output_type": "stream",
     "text": [
      "0       0\n",
      "1       0\n",
      "2       1\n",
      "3       0\n",
      "4       0\n",
      "       ..\n",
      "1081    1\n",
      "1082    0\n",
      "1083    1\n",
      "1084    0\n",
      "1085    0\n",
      "Name: Pobreza, Length: 1086, dtype: int32\n"
     ]
    },
    {
     "data": {
      "text/plain": "<Figure size 360x360 with 1 Axes>",
      "image/png": "[encoded data removed]"
     },
     "metadata": {
      "needs_background": "light"
     },
     "output_type": "display_data"
    }
   ],
   "source": [
    "linea_pobreza = 850\n",
    "datos[\"IngresoPerCapita\"] = datos['INGTOT']/datos[\"THOGAR\"]\n",
    "sb.displot(datos, x = \"IngresoPerCapita\")\n",
    "datos[\"Pobreza\"] = np.where(datos['IngresoPerCapita'] <850,1,0)\n",
    "datos[\"Pobreza\"] = np.where(datos['IngresoPerCapita'] <850,1,0)"
   ],
   "metadata": {
    "collapsed": false,
    "pycharm": {
     "name": "#%%\n"
    }
   }
  },
  {
   "cell_type": "markdown",
   "source": [
    "Para calcular la incidencia de la pobreza usamos la fórmula: $$H = \\frac{q}{n} $$, donde $q$ es la cantidad total de personas\n",
    "en condición de pobreza y $n$ es el total de la población."
   ],
   "metadata": {
    "collapsed": false,
    "pycharm": {
     "name": "#%% md\n"
    }
   }
  },
  {
   "cell_type": "code",
   "execution_count": 27,
   "outputs": [
    {
     "name": "stdout",
     "output_type": "stream",
     "text": [
      "0.6528545119705341\n",
      "<class 'pandas.core.frame.DataFrame'>\n",
      "Int64Index: 1086 entries, 0 to 1085\n",
      "Data columns (total 28 columns):\n",
      " #   Column            Non-Null Count  Dtype   \n",
      "---  ------            --------------  -----   \n",
      " 0   REGION            1086 non-null   category\n",
      " 1   DEPTO             1086 non-null   category\n",
      " 2   AREA              1086 non-null   category\n",
      " 3   THOGAR            1086 non-null   float64 \n",
      " 4   P01A02            1086 non-null   category\n",
      " 5   P01A03            1086 non-null   category\n",
      " 6   P01A04            1086 non-null   category\n",
      " 7   P01A05A           1086 non-null   category\n",
      " 8   P01A05B           1086 non-null   category\n",
      " 9   P01A05C           1086 non-null   category\n",
      " 10  P01A06            1086 non-null   float64 \n",
      " 11  P01D06            1086 non-null   category\n",
      " 12  P01D17            1086 non-null   category\n",
      " 13  P01D19B           1086 non-null   category\n",
      " 14  P01D21            1086 non-null   category\n",
      " 15  P01D27            1086 non-null   category\n",
      " 16  P01H02            1086 non-null   category\n",
      " 17  P01H03            1086 non-null   category\n",
      " 18  P01H04            1086 non-null   category\n",
      " 19  P01H05            1086 non-null   category\n",
      " 20  P01H06            1086 non-null   category\n",
      " 21  P01H07            1086 non-null   category\n",
      " 22  P06B25A           1086 non-null   category\n",
      " 23  P06B25B           797 non-null    float64 \n",
      " 24  GPOETNICO         1086 non-null   category\n",
      " 25  INGTOT            1086 non-null   float32 \n",
      " 26  IngresoPerCapita  1086 non-null   float64 \n",
      " 27  Pobreza           1086 non-null   int32   \n",
      "dtypes: category(22), float32(1), float64(4), int32(1)\n",
      "memory usage: 111.2 KB\n",
      "None\n"
     ]
    }
   ],
   "source": [
    "q = datos.value_counts(\"Pobreza\")[1]\n",
    "n = datos.shape[0]\n",
    "H = q / n\n",
    "print(H)\n",
    "print(datos.info())"
   ],
   "metadata": {
    "collapsed": false,
    "pycharm": {
     "name": "#%%\n"
    }
   }
  },
  {
   "cell_type": "code",
   "execution_count": 51,
   "outputs": [
    {
     "name": "stdout",
     "output_type": "stream",
     "text": [
      "REGION\n",
      "I. METROPOLITANA      0.244681\n",
      "II. NORTE             0.842857\n",
      "III. NORORIENTAL      0.615894\n",
      "IV SURORIENTAL        0.758621\n",
      "V. CENTRAL            0.555556\n",
      "VI. SUROCCIDENTAL     0.693380\n",
      "VII. NOROCCIDENTAL    0.873563\n",
      "VIII. PETEN           0.722222\n",
      "dtype: float64\n",
      "<class 'pandas.core.series.Series'>\n",
      "DEPTO\n",
      "Guatemala         0.244681\n",
      "El Progreso       0.625000\n",
      "Sacatepéquez      0.445783\n",
      "Chimaltenango     0.760870\n",
      "Escuintla         0.550725\n",
      "Santa Rosa        0.580645\n",
      "Sololá            0.795455\n",
      "Totonicapán       0.800000\n",
      "Quetzaltenango    0.651163\n",
      "Suchitepéquez     0.586207\n",
      "Retalhuleu        0.709677\n",
      "San Marcos        0.727273\n",
      "Huehuetenango     0.894737\n",
      "Quiché            0.857143\n",
      "Baja Verapaz      0.742857\n",
      "Alta Verapaz      0.942857\n",
      "Petén             0.722222\n",
      "Izabal            0.581395\n",
      "Zacapa            0.529412\n",
      "Chiquimula        0.735294\n",
      "Jalapa            0.843137\n",
      "Jutiapa           0.777778\n",
      "dtype: float64\n",
      "<class 'pandas.core.series.Series'>\n",
      "AREA\n",
      "Urbana    0.467641\n",
      "Rural     0.799012\n",
      "dtype: float64\n",
      "<class 'pandas.core.series.Series'>\n",
      "GPOETNICO\n",
      "No indigena    0.584932\n",
      "Indigena       0.792135\n",
      "dtype: float64\n",
      "<class 'pandas.core.series.Series'>\n"
     ]
    }
   ],
   "source": [
    "variables = [\"REGION\", \"DEPTO\", \"AREA\", \"GPOETNICO\"]\n",
    "resultados = []\n",
    "for v in variables:\n",
    "    q = datos.groupby([\"Pobreza\",v])[v].count()[1]\n",
    "    n = datos.value_counts(v)\n",
    "    resultados.append(q/n)"
   ],
   "metadata": {
    "collapsed": false,
    "pycharm": {
     "name": "#%%\n"
    }
   }
  },
  {
   "cell_type": "code",
   "execution_count": 52,
   "outputs": [
    {
     "data": {
      "text/plain": "<AxesSubplot:xlabel='REGION'>"
     },
     "execution_count": 52,
     "metadata": {},
     "output_type": "execute_result"
    },
    {
     "data": {
      "text/plain": "<Figure size 432x288 with 1 Axes>",
      "image/png": "[encoded data removed]"
     },
     "metadata": {
      "needs_background": "light"
     },
     "output_type": "display_data"
    }
   ],
   "source": [
    "sb.barplot(x = resultados[0].index, y = resultados[0])\n"
   ],
   "metadata": {
    "collapsed": false,
    "pycharm": {
     "name": "#%%\n"
    }
   }
  }
 ],
 "metadata": {
  "kernelspec": {
   "display_name": "Python 3",
   "language": "python",
   "name": "python3"
  },
  "language_info": {
   "codemirror_mode": {
    "name": "ipython",
    "version": 2
   },
   "file_extension": ".py",
   "mimetype": "text/x-python",
   "name": "python",
   "nbconvert_exporter": "python",
   "pygments_lexer": "ipython2",
   "version": "2.7.6"
  }
 },
 "nbformat": 4,
 "nbformat_minor": 0
}